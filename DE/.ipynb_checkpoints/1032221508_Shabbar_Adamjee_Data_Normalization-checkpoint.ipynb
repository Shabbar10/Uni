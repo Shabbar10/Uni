{
 "cells": [
  {
   "cell_type": "code",
   "execution_count": 3,
   "id": "24ce8850-5ea3-4540-87a9-ba886edd157d",
   "metadata": {},
   "outputs": [],
   "source": [
    "import pandas as pd\n",
    "import numpy as np\n",
    "import matplotlib.pyplot as plt\n",
    "import seaborn as sns\n",
    "from scipy import stats"
   ]
  },
  {
   "cell_type": "code",
   "execution_count": 5,
   "id": "ca6b16fa-d1cb-4f64-a669-75533b8a2e49",
   "metadata": {},
   "outputs": [
    {
     "data": {
      "text/html": [
       "<div>\n",
       "<style scoped>\n",
       "    .dataframe tbody tr th:only-of-type {\n",
       "        vertical-align: middle;\n",
       "    }\n",
       "\n",
       "    .dataframe tbody tr th {\n",
       "        vertical-align: top;\n",
       "    }\n",
       "\n",
       "    .dataframe thead th {\n",
       "        text-align: right;\n",
       "    }\n",
       "</style>\n",
       "<table border=\"1\" class=\"dataframe\">\n",
       "  <thead>\n",
       "    <tr style=\"text-align: right;\">\n",
       "      <th></th>\n",
       "      <th>Price</th>\n",
       "      <th>Age</th>\n",
       "      <th>KM</th>\n",
       "      <th>FuelType</th>\n",
       "      <th>HP</th>\n",
       "      <th>MetColor</th>\n",
       "      <th>Automatic</th>\n",
       "      <th>CC</th>\n",
       "      <th>Doors</th>\n",
       "      <th>Weight</th>\n",
       "    </tr>\n",
       "  </thead>\n",
       "  <tbody>\n",
       "    <tr>\n",
       "      <th>0</th>\n",
       "      <td>13500</td>\n",
       "      <td>23.0</td>\n",
       "      <td>46986</td>\n",
       "      <td>Diesel</td>\n",
       "      <td>90</td>\n",
       "      <td>1.0</td>\n",
       "      <td>0</td>\n",
       "      <td>2000</td>\n",
       "      <td>three</td>\n",
       "      <td>1165</td>\n",
       "    </tr>\n",
       "    <tr>\n",
       "      <th>1</th>\n",
       "      <td>13750</td>\n",
       "      <td>23.0</td>\n",
       "      <td>72937</td>\n",
       "      <td>Diesel</td>\n",
       "      <td>90</td>\n",
       "      <td>1.0</td>\n",
       "      <td>0</td>\n",
       "      <td>2000</td>\n",
       "      <td>3</td>\n",
       "      <td>1165</td>\n",
       "    </tr>\n",
       "    <tr>\n",
       "      <th>2</th>\n",
       "      <td>13950</td>\n",
       "      <td>24.0</td>\n",
       "      <td>41711</td>\n",
       "      <td>Diesel</td>\n",
       "      <td>90</td>\n",
       "      <td>NaN</td>\n",
       "      <td>0</td>\n",
       "      <td>2000</td>\n",
       "      <td>3</td>\n",
       "      <td>1165</td>\n",
       "    </tr>\n",
       "    <tr>\n",
       "      <th>3</th>\n",
       "      <td>14950</td>\n",
       "      <td>26.0</td>\n",
       "      <td>48000</td>\n",
       "      <td>Diesel</td>\n",
       "      <td>90</td>\n",
       "      <td>0.0</td>\n",
       "      <td>0</td>\n",
       "      <td>2000</td>\n",
       "      <td>3</td>\n",
       "      <td>1165</td>\n",
       "    </tr>\n",
       "    <tr>\n",
       "      <th>4</th>\n",
       "      <td>13750</td>\n",
       "      <td>30.0</td>\n",
       "      <td>38500</td>\n",
       "      <td>Diesel</td>\n",
       "      <td>90</td>\n",
       "      <td>0.0</td>\n",
       "      <td>0</td>\n",
       "      <td>2000</td>\n",
       "      <td>3</td>\n",
       "      <td>1170</td>\n",
       "    </tr>\n",
       "    <tr>\n",
       "      <th>...</th>\n",
       "      <td>...</td>\n",
       "      <td>...</td>\n",
       "      <td>...</td>\n",
       "      <td>...</td>\n",
       "      <td>...</td>\n",
       "      <td>...</td>\n",
       "      <td>...</td>\n",
       "      <td>...</td>\n",
       "      <td>...</td>\n",
       "      <td>...</td>\n",
       "    </tr>\n",
       "    <tr>\n",
       "      <th>1431</th>\n",
       "      <td>7500</td>\n",
       "      <td>NaN</td>\n",
       "      <td>20544</td>\n",
       "      <td>Petrol</td>\n",
       "      <td>86</td>\n",
       "      <td>1.0</td>\n",
       "      <td>0</td>\n",
       "      <td>1300</td>\n",
       "      <td>3</td>\n",
       "      <td>1025</td>\n",
       "    </tr>\n",
       "    <tr>\n",
       "      <th>1432</th>\n",
       "      <td>10845</td>\n",
       "      <td>72.0</td>\n",
       "      <td>??</td>\n",
       "      <td>Petrol</td>\n",
       "      <td>86</td>\n",
       "      <td>0.0</td>\n",
       "      <td>0</td>\n",
       "      <td>1300</td>\n",
       "      <td>3</td>\n",
       "      <td>1015</td>\n",
       "    </tr>\n",
       "    <tr>\n",
       "      <th>1433</th>\n",
       "      <td>8500</td>\n",
       "      <td>NaN</td>\n",
       "      <td>17016</td>\n",
       "      <td>Petrol</td>\n",
       "      <td>86</td>\n",
       "      <td>0.0</td>\n",
       "      <td>0</td>\n",
       "      <td>1300</td>\n",
       "      <td>3</td>\n",
       "      <td>1015</td>\n",
       "    </tr>\n",
       "    <tr>\n",
       "      <th>1434</th>\n",
       "      <td>7250</td>\n",
       "      <td>70.0</td>\n",
       "      <td>??</td>\n",
       "      <td>NaN</td>\n",
       "      <td>86</td>\n",
       "      <td>1.0</td>\n",
       "      <td>0</td>\n",
       "      <td>1300</td>\n",
       "      <td>3</td>\n",
       "      <td>1015</td>\n",
       "    </tr>\n",
       "    <tr>\n",
       "      <th>1435</th>\n",
       "      <td>6950</td>\n",
       "      <td>76.0</td>\n",
       "      <td>1</td>\n",
       "      <td>Petrol</td>\n",
       "      <td>110</td>\n",
       "      <td>0.0</td>\n",
       "      <td>0</td>\n",
       "      <td>1600</td>\n",
       "      <td>5</td>\n",
       "      <td>1114</td>\n",
       "    </tr>\n",
       "  </tbody>\n",
       "</table>\n",
       "<p>1436 rows × 10 columns</p>\n",
       "</div>"
      ],
      "text/plain": [
       "      Price   Age     KM FuelType   HP  MetColor  Automatic    CC  Doors  \\\n",
       "0     13500  23.0  46986   Diesel   90       1.0          0  2000  three   \n",
       "1     13750  23.0  72937   Diesel   90       1.0          0  2000      3   \n",
       "2     13950  24.0  41711   Diesel   90       NaN          0  2000      3   \n",
       "3     14950  26.0  48000   Diesel   90       0.0          0  2000      3   \n",
       "4     13750  30.0  38500   Diesel   90       0.0          0  2000      3   \n",
       "...     ...   ...    ...      ...  ...       ...        ...   ...    ...   \n",
       "1431   7500   NaN  20544   Petrol   86       1.0          0  1300      3   \n",
       "1432  10845  72.0     ??   Petrol   86       0.0          0  1300      3   \n",
       "1433   8500   NaN  17016   Petrol   86       0.0          0  1300      3   \n",
       "1434   7250  70.0     ??      NaN   86       1.0          0  1300      3   \n",
       "1435   6950  76.0      1   Petrol  110       0.0          0  1600      5   \n",
       "\n",
       "      Weight  \n",
       "0       1165  \n",
       "1       1165  \n",
       "2       1165  \n",
       "3       1165  \n",
       "4       1170  \n",
       "...      ...  \n",
       "1431    1025  \n",
       "1432    1015  \n",
       "1433    1015  \n",
       "1434    1015  \n",
       "1435    1114  \n",
       "\n",
       "[1436 rows x 10 columns]"
      ]
     },
     "execution_count": 5,
     "metadata": {},
     "output_type": "execute_result"
    }
   ],
   "source": [
    "df = pd.read_csv('Toyota.csv')\n",
    "df = df.drop('Unnamed: 0', axis=1)\n",
    "df"
   ]
  },
  {
   "cell_type": "markdown",
   "id": "d59b9519-52e8-4192-a5d6-53b480494d85",
   "metadata": {},
   "source": [
    "### Will perform MinMax on Price, Z-Score on KM, and Decimal Scaling on Weight"
   ]
  },
  {
   "cell_type": "markdown",
   "id": "c4ec2dd0-c6ef-4aeb-82b5-e68519ef4934",
   "metadata": {},
   "source": [
    "# MinMax on Price"
   ]
  },
  {
   "cell_type": "markdown",
   "id": "21b4a8d7-74f0-4291-a9bd-f2138d370dfc",
   "metadata": {},
   "source": [
    "$$\n",
    "v_i' = \\frac{v_i - min_A}{max_A - min_A} \\times (newMax_A - newMin_A) + newMinA\n",
    "$$"
   ]
  },
  {
   "cell_type": "markdown",
   "id": "b9152da7-8e0a-4f6d-8165-8c882d41e8c3",
   "metadata": {},
   "source": [
    "We will consider the newMin and newMax to be 0 and 1 respectively."
   ]
  },
  {
   "cell_type": "code",
   "execution_count": 6,
   "id": "e88fc58d-9eee-446a-b59a-7960732b39fe",
   "metadata": {},
   "outputs": [
    {
     "data": {
      "text/plain": [
       "dtype('int64')"
      ]
     },
     "execution_count": 6,
     "metadata": {},
     "output_type": "execute_result"
    }
   ],
   "source": [
    "df['Price'].dtype"
   ]
  },
  {
   "cell_type": "code",
   "execution_count": 7,
   "id": "eea3d2b6-9db3-46d5-9637-e3b4ce6e06d7",
   "metadata": {},
   "outputs": [
    {
     "data": {
      "text/plain": [
       "0"
      ]
     },
     "execution_count": 7,
     "metadata": {},
     "output_type": "execute_result"
    }
   ],
   "source": [
    "df['Price'].isna().sum()"
   ]
  },
  {
   "cell_type": "code",
   "execution_count": 8,
   "id": "57072454-cc8e-4caf-bbc5-1b6b4891bccd",
   "metadata": {},
   "outputs": [],
   "source": [
    "df.insert(1, 'MinMaxScaled', ((df['Price'] - df['Price'].min())/(df['Price'].max() - df['Price'].min())))"
   ]
  },
  {
   "cell_type": "code",
   "execution_count": 9,
   "id": "e84825cb-1013-489e-ac77-265aae16707a",
   "metadata": {},
   "outputs": [
    {
     "data": {
      "text/html": [
       "<div>\n",
       "<style scoped>\n",
       "    .dataframe tbody tr th:only-of-type {\n",
       "        vertical-align: middle;\n",
       "    }\n",
       "\n",
       "    .dataframe tbody tr th {\n",
       "        vertical-align: top;\n",
       "    }\n",
       "\n",
       "    .dataframe thead th {\n",
       "        text-align: right;\n",
       "    }\n",
       "</style>\n",
       "<table border=\"1\" class=\"dataframe\">\n",
       "  <thead>\n",
       "    <tr style=\"text-align: right;\">\n",
       "      <th></th>\n",
       "      <th>Price</th>\n",
       "      <th>MinMaxScaled</th>\n",
       "      <th>Age</th>\n",
       "      <th>KM</th>\n",
       "      <th>FuelType</th>\n",
       "      <th>HP</th>\n",
       "      <th>MetColor</th>\n",
       "      <th>Automatic</th>\n",
       "      <th>CC</th>\n",
       "      <th>Doors</th>\n",
       "      <th>Weight</th>\n",
       "    </tr>\n",
       "  </thead>\n",
       "  <tbody>\n",
       "    <tr>\n",
       "      <th>0</th>\n",
       "      <td>13500</td>\n",
       "      <td>0.325044</td>\n",
       "      <td>23.0</td>\n",
       "      <td>46986</td>\n",
       "      <td>Diesel</td>\n",
       "      <td>90</td>\n",
       "      <td>1.0</td>\n",
       "      <td>0</td>\n",
       "      <td>2000</td>\n",
       "      <td>three</td>\n",
       "      <td>1165</td>\n",
       "    </tr>\n",
       "    <tr>\n",
       "      <th>1</th>\n",
       "      <td>13750</td>\n",
       "      <td>0.333925</td>\n",
       "      <td>23.0</td>\n",
       "      <td>72937</td>\n",
       "      <td>Diesel</td>\n",
       "      <td>90</td>\n",
       "      <td>1.0</td>\n",
       "      <td>0</td>\n",
       "      <td>2000</td>\n",
       "      <td>3</td>\n",
       "      <td>1165</td>\n",
       "    </tr>\n",
       "    <tr>\n",
       "      <th>2</th>\n",
       "      <td>13950</td>\n",
       "      <td>0.341030</td>\n",
       "      <td>24.0</td>\n",
       "      <td>41711</td>\n",
       "      <td>Diesel</td>\n",
       "      <td>90</td>\n",
       "      <td>NaN</td>\n",
       "      <td>0</td>\n",
       "      <td>2000</td>\n",
       "      <td>3</td>\n",
       "      <td>1165</td>\n",
       "    </tr>\n",
       "    <tr>\n",
       "      <th>3</th>\n",
       "      <td>14950</td>\n",
       "      <td>0.376554</td>\n",
       "      <td>26.0</td>\n",
       "      <td>48000</td>\n",
       "      <td>Diesel</td>\n",
       "      <td>90</td>\n",
       "      <td>0.0</td>\n",
       "      <td>0</td>\n",
       "      <td>2000</td>\n",
       "      <td>3</td>\n",
       "      <td>1165</td>\n",
       "    </tr>\n",
       "    <tr>\n",
       "      <th>4</th>\n",
       "      <td>13750</td>\n",
       "      <td>0.333925</td>\n",
       "      <td>30.0</td>\n",
       "      <td>38500</td>\n",
       "      <td>Diesel</td>\n",
       "      <td>90</td>\n",
       "      <td>0.0</td>\n",
       "      <td>0</td>\n",
       "      <td>2000</td>\n",
       "      <td>3</td>\n",
       "      <td>1170</td>\n",
       "    </tr>\n",
       "    <tr>\n",
       "      <th>...</th>\n",
       "      <td>...</td>\n",
       "      <td>...</td>\n",
       "      <td>...</td>\n",
       "      <td>...</td>\n",
       "      <td>...</td>\n",
       "      <td>...</td>\n",
       "      <td>...</td>\n",
       "      <td>...</td>\n",
       "      <td>...</td>\n",
       "      <td>...</td>\n",
       "      <td>...</td>\n",
       "    </tr>\n",
       "    <tr>\n",
       "      <th>1431</th>\n",
       "      <td>7500</td>\n",
       "      <td>0.111901</td>\n",
       "      <td>NaN</td>\n",
       "      <td>20544</td>\n",
       "      <td>Petrol</td>\n",
       "      <td>86</td>\n",
       "      <td>1.0</td>\n",
       "      <td>0</td>\n",
       "      <td>1300</td>\n",
       "      <td>3</td>\n",
       "      <td>1025</td>\n",
       "    </tr>\n",
       "    <tr>\n",
       "      <th>1432</th>\n",
       "      <td>10845</td>\n",
       "      <td>0.230728</td>\n",
       "      <td>72.0</td>\n",
       "      <td>??</td>\n",
       "      <td>Petrol</td>\n",
       "      <td>86</td>\n",
       "      <td>0.0</td>\n",
       "      <td>0</td>\n",
       "      <td>1300</td>\n",
       "      <td>3</td>\n",
       "      <td>1015</td>\n",
       "    </tr>\n",
       "    <tr>\n",
       "      <th>1433</th>\n",
       "      <td>8500</td>\n",
       "      <td>0.147425</td>\n",
       "      <td>NaN</td>\n",
       "      <td>17016</td>\n",
       "      <td>Petrol</td>\n",
       "      <td>86</td>\n",
       "      <td>0.0</td>\n",
       "      <td>0</td>\n",
       "      <td>1300</td>\n",
       "      <td>3</td>\n",
       "      <td>1015</td>\n",
       "    </tr>\n",
       "    <tr>\n",
       "      <th>1434</th>\n",
       "      <td>7250</td>\n",
       "      <td>0.103020</td>\n",
       "      <td>70.0</td>\n",
       "      <td>??</td>\n",
       "      <td>NaN</td>\n",
       "      <td>86</td>\n",
       "      <td>1.0</td>\n",
       "      <td>0</td>\n",
       "      <td>1300</td>\n",
       "      <td>3</td>\n",
       "      <td>1015</td>\n",
       "    </tr>\n",
       "    <tr>\n",
       "      <th>1435</th>\n",
       "      <td>6950</td>\n",
       "      <td>0.092362</td>\n",
       "      <td>76.0</td>\n",
       "      <td>1</td>\n",
       "      <td>Petrol</td>\n",
       "      <td>110</td>\n",
       "      <td>0.0</td>\n",
       "      <td>0</td>\n",
       "      <td>1600</td>\n",
       "      <td>5</td>\n",
       "      <td>1114</td>\n",
       "    </tr>\n",
       "  </tbody>\n",
       "</table>\n",
       "<p>1436 rows × 11 columns</p>\n",
       "</div>"
      ],
      "text/plain": [
       "      Price  MinMaxScaled   Age     KM FuelType   HP  MetColor  Automatic  \\\n",
       "0     13500      0.325044  23.0  46986   Diesel   90       1.0          0   \n",
       "1     13750      0.333925  23.0  72937   Diesel   90       1.0          0   \n",
       "2     13950      0.341030  24.0  41711   Diesel   90       NaN          0   \n",
       "3     14950      0.376554  26.0  48000   Diesel   90       0.0          0   \n",
       "4     13750      0.333925  30.0  38500   Diesel   90       0.0          0   \n",
       "...     ...           ...   ...    ...      ...  ...       ...        ...   \n",
       "1431   7500      0.111901   NaN  20544   Petrol   86       1.0          0   \n",
       "1432  10845      0.230728  72.0     ??   Petrol   86       0.0          0   \n",
       "1433   8500      0.147425   NaN  17016   Petrol   86       0.0          0   \n",
       "1434   7250      0.103020  70.0     ??      NaN   86       1.0          0   \n",
       "1435   6950      0.092362  76.0      1   Petrol  110       0.0          0   \n",
       "\n",
       "        CC  Doors  Weight  \n",
       "0     2000  three    1165  \n",
       "1     2000      3    1165  \n",
       "2     2000      3    1165  \n",
       "3     2000      3    1165  \n",
       "4     2000      3    1170  \n",
       "...    ...    ...     ...  \n",
       "1431  1300      3    1025  \n",
       "1432  1300      3    1015  \n",
       "1433  1300      3    1015  \n",
       "1434  1300      3    1015  \n",
       "1435  1600      5    1114  \n",
       "\n",
       "[1436 rows x 11 columns]"
      ]
     },
     "execution_count": 9,
     "metadata": {},
     "output_type": "execute_result"
    }
   ],
   "source": [
    "df"
   ]
  },
  {
   "cell_type": "code",
   "execution_count": 16,
   "id": "34a977f9-9bc6-4e30-bd8e-b48f464e9faa",
   "metadata": {},
   "outputs": [
    {
     "data": {
      "text/plain": [
       "Text(0.5, 1.0, 'Original Data')"
      ]
     },
     "execution_count": 16,
     "metadata": {},
     "output_type": "execute_result"
    },
    {
     "data": {
      "image/png": "[encoded data removed]",
      "text/plain": [
       "<Figure size 640x480 with 1 Axes>"
      ]
     },
     "metadata": {},
     "output_type": "display_data"
    }
   ],
   "source": [
    "plt.hist(df['Price'], bins=10, color='skyblue', edgecolor='black')\n",
    "plt.title('Original Data')"
   ]
  },
  {
   "cell_type": "code",
   "execution_count": 17,
   "id": "5533e4a1-8a47-4b2b-b29b-dac8642a9d0f",
   "metadata": {},
   "outputs": [
    {
     "data": {
      "text/plain": [
       "Text(0.5, 1.0, 'Min-Max Scaled Data')"
      ]
     },
     "execution_count": 17,
     "metadata": {},
     "output_type": "execute_result"
    },
    {
     "data": {
      "image/png": "[encoded data removed]",
      "text/plain": [
       "<Figure size 640x480 with 1 Axes>"
      ]
     },
     "metadata": {},
     "output_type": "display_data"
    }
   ],
   "source": [
    "plt.hist(df['MinMaxScaled'], bins=10, color='orange', edgecolor='black')\n",
    "plt.title('Min-Max Scaled Data')"
   ]
  },
  {
   "cell_type": "markdown",
   "id": "9054c10f-f630-4c13-8055-091e3ce8d2de",
   "metadata": {},
   "source": [
    "### As is clearly visible, the normalized data produces the same analytical results as the original data."
   ]
  },
  {
   "cell_type": "markdown",
   "id": "1d6240f6-3380-4c87-ae5a-f37c59d38383",
   "metadata": {},
   "source": [
    "# Z-Score on KM"
   ]
  },
  {
   "cell_type": "code",
   "execution_count": 14,
   "id": "3985ee29-b392-4ff0-b9d0-c177193fd060",
   "metadata": {},
   "outputs": [],
   "source": [
    "df['KM'] = df['KM'].replace('??', np.nan)\n",
    "df['KM'] = df['KM'].astype(float)\n",
    "df['KM'] = df['KM'].fillna(df['KM'].mean())\n",
    "df['KM'] = df['KM'].astype(int)"
   ]
  },
  {
   "cell_type": "code",
   "execution_count": 15,
   "id": "8046204c-f1b7-4385-b4be-6a3dc0659b58",
   "metadata": {},
   "outputs": [
    {
     "data": {
      "text/html": [
       "<div>\n",
       "<style scoped>\n",
       "    .dataframe tbody tr th:only-of-type {\n",
       "        vertical-align: middle;\n",
       "    }\n",
       "\n",
       "    .dataframe tbody tr th {\n",
       "        vertical-align: top;\n",
       "    }\n",
       "\n",
       "    .dataframe thead th {\n",
       "        text-align: right;\n",
       "    }\n",
       "</style>\n",
       "<table border=\"1\" class=\"dataframe\">\n",
       "  <thead>\n",
       "    <tr style=\"text-align: right;\">\n",
       "      <th></th>\n",
       "      <th>Price</th>\n",
       "      <th>MinMaxScaled</th>\n",
       "      <th>Age</th>\n",
       "      <th>KM</th>\n",
       "      <th>Z-ScoreScaled</th>\n",
       "      <th>FuelType</th>\n",
       "      <th>HP</th>\n",
       "      <th>MetColor</th>\n",
       "      <th>Automatic</th>\n",
       "      <th>CC</th>\n",
       "      <th>Doors</th>\n",
       "      <th>Weight</th>\n",
       "    </tr>\n",
       "  </thead>\n",
       "  <tbody>\n",
       "    <tr>\n",
       "      <th>0</th>\n",
       "      <td>13500</td>\n",
       "      <td>0.325044</td>\n",
       "      <td>23.0</td>\n",
       "      <td>46986</td>\n",
       "      <td>-0.583476</td>\n",
       "      <td>Diesel</td>\n",
       "      <td>90</td>\n",
       "      <td>1.0</td>\n",
       "      <td>0</td>\n",
       "      <td>2000</td>\n",
       "      <td>three</td>\n",
       "      <td>1165</td>\n",
       "    </tr>\n",
       "    <tr>\n",
       "      <th>1</th>\n",
       "      <td>13750</td>\n",
       "      <td>0.333925</td>\n",
       "      <td>23.0</td>\n",
       "      <td>72937</td>\n",
       "      <td>0.115551</td>\n",
       "      <td>Diesel</td>\n",
       "      <td>90</td>\n",
       "      <td>1.0</td>\n",
       "      <td>0</td>\n",
       "      <td>2000</td>\n",
       "      <td>3</td>\n",
       "      <td>1165</td>\n",
       "    </tr>\n",
       "    <tr>\n",
       "      <th>2</th>\n",
       "      <td>13950</td>\n",
       "      <td>0.341030</td>\n",
       "      <td>24.0</td>\n",
       "      <td>41711</td>\n",
       "      <td>-0.725566</td>\n",
       "      <td>Diesel</td>\n",
       "      <td>90</td>\n",
       "      <td>NaN</td>\n",
       "      <td>0</td>\n",
       "      <td>2000</td>\n",
       "      <td>3</td>\n",
       "      <td>1165</td>\n",
       "    </tr>\n",
       "    <tr>\n",
       "      <th>3</th>\n",
       "      <td>14950</td>\n",
       "      <td>0.376554</td>\n",
       "      <td>26.0</td>\n",
       "      <td>48000</td>\n",
       "      <td>-0.556163</td>\n",
       "      <td>Diesel</td>\n",
       "      <td>90</td>\n",
       "      <td>0.0</td>\n",
       "      <td>0</td>\n",
       "      <td>2000</td>\n",
       "      <td>3</td>\n",
       "      <td>1165</td>\n",
       "    </tr>\n",
       "    <tr>\n",
       "      <th>4</th>\n",
       "      <td>13750</td>\n",
       "      <td>0.333925</td>\n",
       "      <td>30.0</td>\n",
       "      <td>38500</td>\n",
       "      <td>-0.812059</td>\n",
       "      <td>Diesel</td>\n",
       "      <td>90</td>\n",
       "      <td>0.0</td>\n",
       "      <td>0</td>\n",
       "      <td>2000</td>\n",
       "      <td>3</td>\n",
       "      <td>1170</td>\n",
       "    </tr>\n",
       "    <tr>\n",
       "      <th>...</th>\n",
       "      <td>...</td>\n",
       "      <td>...</td>\n",
       "      <td>...</td>\n",
       "      <td>...</td>\n",
       "      <td>...</td>\n",
       "      <td>...</td>\n",
       "      <td>...</td>\n",
       "      <td>...</td>\n",
       "      <td>...</td>\n",
       "      <td>...</td>\n",
       "      <td>...</td>\n",
       "      <td>...</td>\n",
       "    </tr>\n",
       "    <tr>\n",
       "      <th>1431</th>\n",
       "      <td>7500</td>\n",
       "      <td>0.111901</td>\n",
       "      <td>NaN</td>\n",
       "      <td>20544</td>\n",
       "      <td>-1.295729</td>\n",
       "      <td>Petrol</td>\n",
       "      <td>86</td>\n",
       "      <td>1.0</td>\n",
       "      <td>0</td>\n",
       "      <td>1300</td>\n",
       "      <td>3</td>\n",
       "      <td>1025</td>\n",
       "    </tr>\n",
       "    <tr>\n",
       "      <th>1432</th>\n",
       "      <td>10845</td>\n",
       "      <td>0.230728</td>\n",
       "      <td>72.0</td>\n",
       "      <td>68647</td>\n",
       "      <td>-0.000006</td>\n",
       "      <td>Petrol</td>\n",
       "      <td>86</td>\n",
       "      <td>0.0</td>\n",
       "      <td>0</td>\n",
       "      <td>1300</td>\n",
       "      <td>3</td>\n",
       "      <td>1015</td>\n",
       "    </tr>\n",
       "    <tr>\n",
       "      <th>1433</th>\n",
       "      <td>8500</td>\n",
       "      <td>0.147425</td>\n",
       "      <td>NaN</td>\n",
       "      <td>17016</td>\n",
       "      <td>-1.390761</td>\n",
       "      <td>Petrol</td>\n",
       "      <td>86</td>\n",
       "      <td>0.0</td>\n",
       "      <td>0</td>\n",
       "      <td>1300</td>\n",
       "      <td>3</td>\n",
       "      <td>1015</td>\n",
       "    </tr>\n",
       "    <tr>\n",
       "      <th>1434</th>\n",
       "      <td>7250</td>\n",
       "      <td>0.103020</td>\n",
       "      <td>70.0</td>\n",
       "      <td>68647</td>\n",
       "      <td>-0.000006</td>\n",
       "      <td>NaN</td>\n",
       "      <td>86</td>\n",
       "      <td>1.0</td>\n",
       "      <td>0</td>\n",
       "      <td>1300</td>\n",
       "      <td>3</td>\n",
       "      <td>1015</td>\n",
       "    </tr>\n",
       "    <tr>\n",
       "      <th>1435</th>\n",
       "      <td>6950</td>\n",
       "      <td>0.092362</td>\n",
       "      <td>76.0</td>\n",
       "      <td>1</td>\n",
       "      <td>-1.849084</td>\n",
       "      <td>Petrol</td>\n",
       "      <td>110</td>\n",
       "      <td>0.0</td>\n",
       "      <td>0</td>\n",
       "      <td>1600</td>\n",
       "      <td>5</td>\n",
       "      <td>1114</td>\n",
       "    </tr>\n",
       "  </tbody>\n",
       "</table>\n",
       "<p>1436 rows × 12 columns</p>\n",
       "</div>"
      ],
      "text/plain": [
       "      Price  MinMaxScaled   Age     KM  Z-ScoreScaled FuelType   HP  MetColor  \\\n",
       "0     13500      0.325044  23.0  46986      -0.583476   Diesel   90       1.0   \n",
       "1     13750      0.333925  23.0  72937       0.115551   Diesel   90       1.0   \n",
       "2     13950      0.341030  24.0  41711      -0.725566   Diesel   90       NaN   \n",
       "3     14950      0.376554  26.0  48000      -0.556163   Diesel   90       0.0   \n",
       "4     13750      0.333925  30.0  38500      -0.812059   Diesel   90       0.0   \n",
       "...     ...           ...   ...    ...            ...      ...  ...       ...   \n",
       "1431   7500      0.111901   NaN  20544      -1.295729   Petrol   86       1.0   \n",
       "1432  10845      0.230728  72.0  68647      -0.000006   Petrol   86       0.0   \n",
       "1433   8500      0.147425   NaN  17016      -1.390761   Petrol   86       0.0   \n",
       "1434   7250      0.103020  70.0  68647      -0.000006      NaN   86       1.0   \n",
       "1435   6950      0.092362  76.0      1      -1.849084   Petrol  110       0.0   \n",
       "\n",
       "      Automatic    CC  Doors  Weight  \n",
       "0             0  2000  three    1165  \n",
       "1             0  2000      3    1165  \n",
       "2             0  2000      3    1165  \n",
       "3             0  2000      3    1165  \n",
       "4             0  2000      3    1170  \n",
       "...         ...   ...    ...     ...  \n",
       "1431          0  1300      3    1025  \n",
       "1432          0  1300      3    1015  \n",
       "1433          0  1300      3    1015  \n",
       "1434          0  1300      3    1015  \n",
       "1435          0  1600      5    1114  \n",
       "\n",
       "[1436 rows x 12 columns]"
      ]
     },
     "execution_count": 15,
     "metadata": {},
     "output_type": "execute_result"
    }
   ],
   "source": [
    "df.insert(4, 'Z-ScoreScaled', stats.zscore(df['KM']))\n",
    "df"
   ]
  },
  {
   "cell_type": "code",
   "execution_count": 32,
   "id": "9c9b12b0-e619-4389-97ba-9fe6c3b38d64",
   "metadata": {},
   "outputs": [
    {
     "data": {
      "text/plain": [
       "Text(0.5, 1.0, 'Original KM')"
      ]
     },
     "execution_count": 32,
     "metadata": {},
     "output_type": "execute_result"
    },
    {
     "data": {
      "image/png": "[encoded data removed]",
      "text/plain": [
       "<Figure size 640x480 with 1 Axes>"
      ]
     },
     "metadata": {},
     "output_type": "display_data"
    }
   ],
   "source": [
    "plt.hist(df['KM'], bins=10, color='red', edgecolor='black')\n",
    "plt.title('Original KM')"
   ]
  },
  {
   "cell_type": "code",
   "execution_count": 19,
   "id": "51f55811-f075-4c90-aa42-4cb9a284f4b1",
   "metadata": {},
   "outputs": [
    {
     "data": {
      "text/plain": [
       "Text(0.5, 1.0, 'Z-Score Scaled Data')"
      ]
     },
     "execution_count": 19,
     "metadata": {},
     "output_type": "execute_result"
    },
    {
     "data": {
      "image/png": "[encoded data removed]",
      "text/plain": [
       "<Figure size 640x480 with 1 Axes>"
      ]
     },
     "metadata": {},
     "output_type": "display_data"
    }
   ],
   "source": [
    "plt.hist(df['Z-ScoreScaled'], bins=10, color='green', edgecolor='black')\n",
    "plt.title('Z-Score Scaled Data')"
   ]
  },
  {
   "cell_type": "markdown",
   "id": "8588b4fe-825b-4fcd-af1a-d746a85f58ef",
   "metadata": {},
   "source": [
    "# Decimal Scaling on Weight"
   ]
  },
  {
   "cell_type": "code",
   "execution_count": 20,
   "id": "5ad08eca-7d1e-41da-bde1-41582b37fd34",
   "metadata": {},
   "outputs": [
    {
     "data": {
      "text/plain": [
       "dtype('int64')"
      ]
     },
     "execution_count": 20,
     "metadata": {},
     "output_type": "execute_result"
    }
   ],
   "source": [
    "df['Weight'].dtype"
   ]
  },
  {
   "cell_type": "code",
   "execution_count": 21,
   "id": "48786d7c-5612-476b-8a0f-55c957e6f77c",
   "metadata": {},
   "outputs": [
    {
     "data": {
      "text/plain": [
       "0"
      ]
     },
     "execution_count": 21,
     "metadata": {},
     "output_type": "execute_result"
    }
   ],
   "source": [
    "df['Weight'].isna().sum()"
   ]
  },
  {
   "cell_type": "markdown",
   "id": "970e4a72-8152-45f7-8a19-9186a638880f",
   "metadata": {},
   "source": [
    "$$\n",
    "X' = \\frac{x}{10^j}\n",
    "$$\n",
    "where j is the smallest integer such that the maximum absolute value of X′ is less than 1."
   ]
  },
  {
   "cell_type": "markdown",
   "id": "254cb615-a784-4252-a1f3-fe36b8baef48",
   "metadata": {},
   "source": [
    "We take the maximum *weight* value and find it's log"
   ]
  },
  {
   "cell_type": "code",
   "execution_count": 26,
   "id": "ff4088b7-5e89-4a71-8e9f-750ab515c694",
   "metadata": {},
   "outputs": [
    {
     "data": {
      "text/plain": [
       "3.2081725266671217"
      ]
     },
     "execution_count": 26,
     "metadata": {},
     "output_type": "execute_result"
    }
   ],
   "source": [
    "max_val_log = np.log10(df['Weight'].max())\n",
    "max_val_log"
   ]
  },
  {
   "cell_type": "markdown",
   "id": "9cae880d-95b9-452b-b3e4-76436fc7d215",
   "metadata": {},
   "source": [
    "At this value of *j* there is a possibility of the value of *X'* being 1. Therefore we take the ceiling."
   ]
  },
  {
   "cell_type": "code",
   "execution_count": 27,
   "id": "767a2301-8647-4fe5-bd9b-5bd798cce161",
   "metadata": {},
   "outputs": [
    {
     "data": {
      "text/plain": [
       "4.0"
      ]
     },
     "execution_count": 27,
     "metadata": {},
     "output_type": "execute_result"
    }
   ],
   "source": [
    "j = np.ceil(max_val_log)\n",
    "j"
   ]
  },
  {
   "cell_type": "markdown",
   "id": "a1e25db2-e6f5-49c2-a6d4-4f65e4eca598",
   "metadata": {},
   "source": [
    "Now we perform the scaling"
   ]
  },
  {
   "cell_type": "code",
   "execution_count": 28,
   "id": "90018598-8800-45b3-a020-ad101fd8db05",
   "metadata": {},
   "outputs": [
    {
     "data": {
      "text/html": [
       "<div>\n",
       "<style scoped>\n",
       "    .dataframe tbody tr th:only-of-type {\n",
       "        vertical-align: middle;\n",
       "    }\n",
       "\n",
       "    .dataframe tbody tr th {\n",
       "        vertical-align: top;\n",
       "    }\n",
       "\n",
       "    .dataframe thead th {\n",
       "        text-align: right;\n",
       "    }\n",
       "</style>\n",
       "<table border=\"1\" class=\"dataframe\">\n",
       "  <thead>\n",
       "    <tr style=\"text-align: right;\">\n",
       "      <th></th>\n",
       "      <th>Price</th>\n",
       "      <th>MinMaxScaled</th>\n",
       "      <th>Age</th>\n",
       "      <th>KM</th>\n",
       "      <th>Z-ScoreScaled</th>\n",
       "      <th>FuelType</th>\n",
       "      <th>HP</th>\n",
       "      <th>MetColor</th>\n",
       "      <th>Automatic</th>\n",
       "      <th>CC</th>\n",
       "      <th>Doors</th>\n",
       "      <th>Weight</th>\n",
       "      <th>DecimalScaled</th>\n",
       "    </tr>\n",
       "  </thead>\n",
       "  <tbody>\n",
       "    <tr>\n",
       "      <th>0</th>\n",
       "      <td>13500</td>\n",
       "      <td>0.325044</td>\n",
       "      <td>23.0</td>\n",
       "      <td>46986</td>\n",
       "      <td>-0.583476</td>\n",
       "      <td>Diesel</td>\n",
       "      <td>90</td>\n",
       "      <td>1.0</td>\n",
       "      <td>0</td>\n",
       "      <td>2000</td>\n",
       "      <td>three</td>\n",
       "      <td>1165</td>\n",
       "      <td>0.1165</td>\n",
       "    </tr>\n",
       "    <tr>\n",
       "      <th>1</th>\n",
       "      <td>13750</td>\n",
       "      <td>0.333925</td>\n",
       "      <td>23.0</td>\n",
       "      <td>72937</td>\n",
       "      <td>0.115551</td>\n",
       "      <td>Diesel</td>\n",
       "      <td>90</td>\n",
       "      <td>1.0</td>\n",
       "      <td>0</td>\n",
       "      <td>2000</td>\n",
       "      <td>3</td>\n",
       "      <td>1165</td>\n",
       "      <td>0.1165</td>\n",
       "    </tr>\n",
       "    <tr>\n",
       "      <th>2</th>\n",
       "      <td>13950</td>\n",
       "      <td>0.341030</td>\n",
       "      <td>24.0</td>\n",
       "      <td>41711</td>\n",
       "      <td>-0.725566</td>\n",
       "      <td>Diesel</td>\n",
       "      <td>90</td>\n",
       "      <td>NaN</td>\n",
       "      <td>0</td>\n",
       "      <td>2000</td>\n",
       "      <td>3</td>\n",
       "      <td>1165</td>\n",
       "      <td>0.1165</td>\n",
       "    </tr>\n",
       "    <tr>\n",
       "      <th>3</th>\n",
       "      <td>14950</td>\n",
       "      <td>0.376554</td>\n",
       "      <td>26.0</td>\n",
       "      <td>48000</td>\n",
       "      <td>-0.556163</td>\n",
       "      <td>Diesel</td>\n",
       "      <td>90</td>\n",
       "      <td>0.0</td>\n",
       "      <td>0</td>\n",
       "      <td>2000</td>\n",
       "      <td>3</td>\n",
       "      <td>1165</td>\n",
       "      <td>0.1165</td>\n",
       "    </tr>\n",
       "    <tr>\n",
       "      <th>4</th>\n",
       "      <td>13750</td>\n",
       "      <td>0.333925</td>\n",
       "      <td>30.0</td>\n",
       "      <td>38500</td>\n",
       "      <td>-0.812059</td>\n",
       "      <td>Diesel</td>\n",
       "      <td>90</td>\n",
       "      <td>0.0</td>\n",
       "      <td>0</td>\n",
       "      <td>2000</td>\n",
       "      <td>3</td>\n",
       "      <td>1170</td>\n",
       "      <td>0.1170</td>\n",
       "    </tr>\n",
       "    <tr>\n",
       "      <th>...</th>\n",
       "      <td>...</td>\n",
       "      <td>...</td>\n",
       "      <td>...</td>\n",
       "      <td>...</td>\n",
       "      <td>...</td>\n",
       "      <td>...</td>\n",
       "      <td>...</td>\n",
       "      <td>...</td>\n",
       "      <td>...</td>\n",
       "      <td>...</td>\n",
       "      <td>...</td>\n",
       "      <td>...</td>\n",
       "      <td>...</td>\n",
       "    </tr>\n",
       "    <tr>\n",
       "      <th>1431</th>\n",
       "      <td>7500</td>\n",
       "      <td>0.111901</td>\n",
       "      <td>NaN</td>\n",
       "      <td>20544</td>\n",
       "      <td>-1.295729</td>\n",
       "      <td>Petrol</td>\n",
       "      <td>86</td>\n",
       "      <td>1.0</td>\n",
       "      <td>0</td>\n",
       "      <td>1300</td>\n",
       "      <td>3</td>\n",
       "      <td>1025</td>\n",
       "      <td>0.1025</td>\n",
       "    </tr>\n",
       "    <tr>\n",
       "      <th>1432</th>\n",
       "      <td>10845</td>\n",
       "      <td>0.230728</td>\n",
       "      <td>72.0</td>\n",
       "      <td>68647</td>\n",
       "      <td>-0.000006</td>\n",
       "      <td>Petrol</td>\n",
       "      <td>86</td>\n",
       "      <td>0.0</td>\n",
       "      <td>0</td>\n",
       "      <td>1300</td>\n",
       "      <td>3</td>\n",
       "      <td>1015</td>\n",
       "      <td>0.1015</td>\n",
       "    </tr>\n",
       "    <tr>\n",
       "      <th>1433</th>\n",
       "      <td>8500</td>\n",
       "      <td>0.147425</td>\n",
       "      <td>NaN</td>\n",
       "      <td>17016</td>\n",
       "      <td>-1.390761</td>\n",
       "      <td>Petrol</td>\n",
       "      <td>86</td>\n",
       "      <td>0.0</td>\n",
       "      <td>0</td>\n",
       "      <td>1300</td>\n",
       "      <td>3</td>\n",
       "      <td>1015</td>\n",
       "      <td>0.1015</td>\n",
       "    </tr>\n",
       "    <tr>\n",
       "      <th>1434</th>\n",
       "      <td>7250</td>\n",
       "      <td>0.103020</td>\n",
       "      <td>70.0</td>\n",
       "      <td>68647</td>\n",
       "      <td>-0.000006</td>\n",
       "      <td>NaN</td>\n",
       "      <td>86</td>\n",
       "      <td>1.0</td>\n",
       "      <td>0</td>\n",
       "      <td>1300</td>\n",
       "      <td>3</td>\n",
       "      <td>1015</td>\n",
       "      <td>0.1015</td>\n",
       "    </tr>\n",
       "    <tr>\n",
       "      <th>1435</th>\n",
       "      <td>6950</td>\n",
       "      <td>0.092362</td>\n",
       "      <td>76.0</td>\n",
       "      <td>1</td>\n",
       "      <td>-1.849084</td>\n",
       "      <td>Petrol</td>\n",
       "      <td>110</td>\n",
       "      <td>0.0</td>\n",
       "      <td>0</td>\n",
       "      <td>1600</td>\n",
       "      <td>5</td>\n",
       "      <td>1114</td>\n",
       "      <td>0.1114</td>\n",
       "    </tr>\n",
       "  </tbody>\n",
       "</table>\n",
       "<p>1436 rows × 13 columns</p>\n",
       "</div>"
      ],
      "text/plain": [
       "      Price  MinMaxScaled   Age     KM  Z-ScoreScaled FuelType   HP  MetColor  \\\n",
       "0     13500      0.325044  23.0  46986      -0.583476   Diesel   90       1.0   \n",
       "1     13750      0.333925  23.0  72937       0.115551   Diesel   90       1.0   \n",
       "2     13950      0.341030  24.0  41711      -0.725566   Diesel   90       NaN   \n",
       "3     14950      0.376554  26.0  48000      -0.556163   Diesel   90       0.0   \n",
       "4     13750      0.333925  30.0  38500      -0.812059   Diesel   90       0.0   \n",
       "...     ...           ...   ...    ...            ...      ...  ...       ...   \n",
       "1431   7500      0.111901   NaN  20544      -1.295729   Petrol   86       1.0   \n",
       "1432  10845      0.230728  72.0  68647      -0.000006   Petrol   86       0.0   \n",
       "1433   8500      0.147425   NaN  17016      -1.390761   Petrol   86       0.0   \n",
       "1434   7250      0.103020  70.0  68647      -0.000006      NaN   86       1.0   \n",
       "1435   6950      0.092362  76.0      1      -1.849084   Petrol  110       0.0   \n",
       "\n",
       "      Automatic    CC  Doors  Weight  DecimalScaled  \n",
       "0             0  2000  three    1165         0.1165  \n",
       "1             0  2000      3    1165         0.1165  \n",
       "2             0  2000      3    1165         0.1165  \n",
       "3             0  2000      3    1165         0.1165  \n",
       "4             0  2000      3    1170         0.1170  \n",
       "...         ...   ...    ...     ...            ...  \n",
       "1431          0  1300      3    1025         0.1025  \n",
       "1432          0  1300      3    1015         0.1015  \n",
       "1433          0  1300      3    1015         0.1015  \n",
       "1434          0  1300      3    1015         0.1015  \n",
       "1435          0  1600      5    1114         0.1114  \n",
       "\n",
       "[1436 rows x 13 columns]"
      ]
     },
     "execution_count": 28,
     "metadata": {},
     "output_type": "execute_result"
    }
   ],
   "source": [
    "df.insert(12, 'DecimalScaled', df['Weight']/10**j)\n",
    "df"
   ]
  },
  {
   "cell_type": "code",
   "execution_count": 33,
   "id": "be670716-b5c5-43e3-9ac7-4c3220ad6503",
   "metadata": {},
   "outputs": [
    {
     "data": {
      "text/plain": [
       "Text(0.5, 1.0, 'Original Data')"
      ]
     },
     "execution_count": 33,
     "metadata": {},
     "output_type": "execute_result"
    },
    {
     "data": {
      "image/png": "[encoded data removed]",
      "text/plain": [
       "<Figure size 640x480 with 1 Axes>"
      ]
     },
     "metadata": {},
     "output_type": "display_data"
    }
   ],
   "source": [
    "plt.hist(df['Weight'], bins=10, color='blue', edgecolor='black')\n",
    "plt.title('Original Data')"
   ]
  },
  {
   "cell_type": "code",
   "execution_count": 31,
   "id": "f4069116-b1d2-4763-840e-ad040566c18a",
   "metadata": {},
   "outputs": [
    {
     "data": {
      "text/plain": [
       "Text(0.5, 1.0, 'Decimal Scaled Data')"
      ]
     },
     "execution_count": 31,
     "metadata": {},
     "output_type": "execute_result"
    },
    {
     "data": {
      "image/png": "[encoded data removed]",
      "text/plain": [
       "<Figure size 640x480 with 1 Axes>"
      ]
     },
     "metadata": {},
     "output_type": "display_data"
    }
   ],
   "source": [
    "plt.hist(df['DecimalScaled'], bins=10, color='purple', edgecolor='black')\n",
    "plt.title('Decimal Scaled Data')"
   ]
  },
  {
   "cell_type": "code",
   "execution_count": null,
   "id": "28b6a233-d2cf-4ea8-be2f-d458a86c5a34",
   "metadata": {},
   "outputs": [],
   "source": []
  }
 ],
 "metadata": {
  "kernelspec": {
   "display_name": "Python 3 (ipykernel)",
   "language": "python",
   "name": "python3"
  },
  "language_info": {
   "codemirror_mode": {
    "name": "ipython",
    "version": 3
   },
   "file_extension": ".py",
   "mimetype": "text/x-python",
   "name": "python",
   "nbconvert_exporter": "python",
   "pygments_lexer": "ipython3",
   "version": "3.12.2"
  }
 },
 "nbformat": 4,
 "nbformat_minor": 5
}
