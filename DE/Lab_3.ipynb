{
 "cells": [
  {
   "cell_type": "code",
   "execution_count": 3,
   "id": "435de37c",
   "metadata": {},
   "outputs": [],
   "source": [
    "import pandas as pd\n",
    "import matplotlib.pyplot as plt\n",
    "from sklearn.preprocessing import OneHotEncoder"
   ]
  },
  {
   "cell_type": "code",
   "execution_count": 3,
   "id": "ce103ec9",
   "metadata": {},
   "outputs": [
    {
     "data": {
      "text/html": [
       "<div>\n",
       "<style scoped>\n",
       "    .dataframe tbody tr th:only-of-type {\n",
       "        vertical-align: middle;\n",
       "    }\n",
       "\n",
       "    .dataframe tbody tr th {\n",
       "        vertical-align: top;\n",
       "    }\n",
       "\n",
       "    .dataframe thead th {\n",
       "        text-align: right;\n",
       "    }\n",
       "</style>\n",
       "<table border=\"1\" class=\"dataframe\">\n",
       "  <thead>\n",
       "    <tr style=\"text-align: right;\">\n",
       "      <th></th>\n",
       "      <th>name</th>\n",
       "      <th>gender</th>\n",
       "      <th>age</th>\n",
       "      <th>weight</th>\n",
       "      <th>height</th>\n",
       "    </tr>\n",
       "  </thead>\n",
       "  <tbody>\n",
       "    <tr>\n",
       "      <th>0</th>\n",
       "      <td>James</td>\n",
       "      <td>M</td>\n",
       "      <td>27</td>\n",
       "      <td>75.1</td>\n",
       "      <td>Short</td>\n",
       "    </tr>\n",
       "    <tr>\n",
       "      <th>1</th>\n",
       "      <td>Barra</td>\n",
       "      <td>M</td>\n",
       "      <td>32</td>\n",
       "      <td>98.3</td>\n",
       "      <td>Short</td>\n",
       "    </tr>\n",
       "    <tr>\n",
       "      <th>2</th>\n",
       "      <td>Sarah</td>\n",
       "      <td>F</td>\n",
       "      <td>34</td>\n",
       "      <td>63.5</td>\n",
       "      <td>Medium</td>\n",
       "    </tr>\n",
       "    <tr>\n",
       "      <th>3</th>\n",
       "      <td>Bill</td>\n",
       "      <td>M</td>\n",
       "      <td>23</td>\n",
       "      <td>87.2</td>\n",
       "      <td>Tall</td>\n",
       "    </tr>\n",
       "    <tr>\n",
       "      <th>4</th>\n",
       "      <td>Peter</td>\n",
       "      <td>M</td>\n",
       "      <td>27</td>\n",
       "      <td>75.1</td>\n",
       "      <td>Short</td>\n",
       "    </tr>\n",
       "    <tr>\n",
       "      <th>5</th>\n",
       "      <td>Chloe</td>\n",
       "      <td>F</td>\n",
       "      <td>32</td>\n",
       "      <td>98.3</td>\n",
       "      <td>Short</td>\n",
       "    </tr>\n",
       "    <tr>\n",
       "      <th>6</th>\n",
       "      <td>Ben</td>\n",
       "      <td>M</td>\n",
       "      <td>34</td>\n",
       "      <td>63.5</td>\n",
       "      <td>Medium</td>\n",
       "    </tr>\n",
       "    <tr>\n",
       "      <th>7</th>\n",
       "      <td>Anna</td>\n",
       "      <td>F</td>\n",
       "      <td>23</td>\n",
       "      <td>87.2</td>\n",
       "      <td>Tall</td>\n",
       "    </tr>\n",
       "  </tbody>\n",
       "</table>\n",
       "</div>"
      ],
      "text/plain": [
       "    name gender  age  weight  height\n",
       "0  James      M   27    75.1   Short\n",
       "1  Barra      M   32    98.3   Short\n",
       "2  Sarah      F   34    63.5  Medium\n",
       "3   Bill      M   23    87.2    Tall\n",
       "4  Peter      M   27    75.1   Short\n",
       "5  Chloe      F   32    98.3   Short\n",
       "6    Ben      M   34    63.5  Medium\n",
       "7   Anna      F   23    87.2    Tall"
      ]
     },
     "execution_count": 3,
     "metadata": {},
     "output_type": "execute_result"
    }
   ],
   "source": [
    "table = {\n",
    "    'name': ['James', 'Barra', 'Sarah', 'Bill', 'Peter', 'Chloe', 'Ben', 'Anna'],\n",
    "    'gender': ['M', 'M', 'F', 'M', 'M', 'F', 'M', 'F'],\n",
    "    'age': [27, 32, 34, 23, 27, 32, 34, 23],\n",
    "    'weight': [75.1, 98.3, 63.5, 87.2, 75.1, 98.3, 63.5, 87.2],\n",
    "    'height': ['Short', 'Short', 'Medium', 'Tall', 'Short', 'Short', 'Medium', 'Tall']\n",
    "}\n",
    "\n",
    "df = pd.DataFrame(table)\n",
    "df"
   ]
  },
  {
   "cell_type": "code",
   "execution_count": 11,
   "id": "fcc83b68",
   "metadata": {},
   "outputs": [
    {
     "data": {
      "text/plain": [
       "(array([2., 0., 0., 2., 0., 0., 0., 0., 2., 2.]),\n",
       " array([23. , 24.1, 25.2, 26.3, 27.4, 28.5, 29.6, 30.7, 31.8, 32.9, 34. ]),\n",
       " <BarContainer object of 10 artists>)"
      ]
     },
     "execution_count": 11,
     "metadata": {},
     "output_type": "execute_result"
    },
    {
     "data": {
      "image/png": "[encoded data removed]",
      "text/plain": [
       "<Figure size 640x480 with 1 Axes>"
      ]
     },
     "metadata": {},
     "output_type": "display_data"
    }
   ],
   "source": [
    "plt.hist(df['age'], rwidth=0.5, color='r')"
   ]
  },
  {
   "cell_type": "code",
   "execution_count": null,
   "id": "9dc32e2b-577e-436b-8f68-211dd680781f",
   "metadata": {},
   "outputs": [],
   "source": [
    "def binningFn(col, cut_points, labels=None):\n",
    "    "
   ]
  }
 ],
 "metadata": {
  "kernelspec": {
   "display_name": "Python 3 (ipykernel)",
   "language": "python",
   "name": "python3"
  },
  "language_info": {
   "codemirror_mode": {
    "name": "ipython",
    "version": 3
   },
   "file_extension": ".py",
   "mimetype": "text/x-python",
   "name": "python",
   "nbconvert_exporter": "python",
   "pygments_lexer": "ipython3",
   "version": "3.12.4"
  }
 },
 "nbformat": 4,
 "nbformat_minor": 5
}
